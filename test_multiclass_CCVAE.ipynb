{
 "cells": [
  {
   "cell_type": "code",
   "execution_count": 14,
   "metadata": {},
   "outputs": [],
   "source": [
    "import torch\n",
    "from collections import namedtuple\n",
    "from utils import dataset_cached as dc\n",
    "from utils import multiclass_dataset_cached as mdc\n",
    "from torchvision.utils import make_grid, save_image\n",
    "from tqdm import tqdm\n",
    "from utils.dataset_cached import CELEBA_EASY_LABELS\n",
    "from utils.multiclass_dataset_cached import CELEBA_MULTI_LABELS, CELEBACached\n",
    "from models.ccvae import CCVAE, mc_CCVAE\n",
    "import numpy as np\n",
    "import torchvision.transforms as transforms\n",
    "import matplotlib.pyplot as plt\n",
    "import PIL\n",
    "import os\n"
   ]
  },
  {
   "cell_type": "code",
   "execution_count": 15,
   "metadata": {},
   "outputs": [],
   "source": [
    "NUM_MC_LABELS = 1"
   ]
  },
  {
   "cell_type": "code",
   "execution_count": 16,
   "metadata": {},
   "outputs": [
    {
     "name": "stdout",
     "output_type": "stream",
     "text": [
      "Loading MULTI_CLASS dataset\n",
      "Splitting Dataset\n",
      "Loading MULTI_CLASS dataset\n",
      "Loading MULTI_CLASS dataset\n",
      "Loading MULTI_CLASS dataset\n"
     ]
    }
   ],
   "source": [
    "# change root for mutlilabel (already dropped the nans within celebaCached)\n",
    "mc_loaders = mdc.setup_data_loaders(False,\n",
    "                                      200,\n",
    "                                      cache_data=True,\n",
    "                                      sup_frac=0.1,\n",
    "                                      root='./data/datasets/celeba',\n",
    "                                      multi_class=True)\n",
    "\n"
   ]
  },
  {
   "cell_type": "code",
   "execution_count": 17,
   "metadata": {},
   "outputs": [],
   "source": [
    "\n",
    "z_dim = 43 # To keep 27 dimensions for z\\c and one per label (16 labels in the multi-class label setting)\n",
    "im_shape = (3, 64, 64)\n",
    "num_binary_classes = len(CELEBA_MULTI_LABELS)-1\n",
    "num_mc_labels = 1\n",
    "num_mc_classes = 5\n",
    "\n",
    "mc_cc_vae = mc_CCVAE(z_dim=z_dim,\n",
    "                   num_binary_classes=num_binary_classes,\n",
    "                   im_shape=im_shape,\n",
    "                   use_cuda=False,\n",
    "                   num_mc_labels = num_mc_labels,\n",
    "                   num_mc_classes = num_mc_classes)"
   ]
  },
  {
   "cell_type": "code",
   "execution_count": 18,
   "metadata": {},
   "outputs": [],
   "source": [
    "ENCODER_PATH = './pretrained_weights/weights_f90_80epoch_mc/encoder.pt'\n",
    "DECODER_PATH = './pretrained_weights/weights_f90_80epoch_mc/decoder.pt'\n",
    "COND_PRIOR_BIN_PATH = './pretrained_weights/weights_f90_80epoch_mc/cond_prior_binary.pt'\n",
    "CLASSIFIER_BIN_PATH = './pretrained_weights/weights_f90_80epoch_mc/classifier_binary.pt'\n",
    "COND_PRIOR_MC_PATH = './pretrained_weights/weights_f90_80epoch_mc/cond_prior_mc.pt'\n",
    "CLASSIFIER_MC_PATH = './pretrained_weights/weights_f90_80epoch_mc/classifier_mc.pt'"
   ]
  },
  {
   "cell_type": "code",
   "execution_count": 19,
   "metadata": {},
   "outputs": [
    {
     "data": {
      "text/plain": [
       "CondPrior_mc(\n",
       "  (diag_loc): ParameterList(\n",
       "      (0): Parameter containing: [torch.float32 of size 1]\n",
       "      (1): Parameter containing: [torch.float32 of size 1]\n",
       "      (2): Parameter containing: [torch.float32 of size 1]\n",
       "      (3): Parameter containing: [torch.float32 of size 1]\n",
       "      (4): Parameter containing: [torch.float32 of size 1]\n",
       "  )\n",
       "  (diag_scale): ParameterList(\n",
       "      (0): Parameter containing: [torch.float32 of size 1]\n",
       "      (1): Parameter containing: [torch.float32 of size 1]\n",
       "      (2): Parameter containing: [torch.float32 of size 1]\n",
       "      (3): Parameter containing: [torch.float32 of size 1]\n",
       "      (4): Parameter containing: [torch.float32 of size 1]\n",
       "  )\n",
       ")"
      ]
     },
     "execution_count": 19,
     "metadata": {},
     "output_type": "execute_result"
    }
   ],
   "source": [
    "\n",
    "# Load weights for the encoder\n",
    "encoder_checkpoint = torch.load(ENCODER_PATH)\n",
    "mc_cc_vae.encoder.load_state_dict(encoder_checkpoint.state_dict())\n",
    "\n",
    "# Load weights for the decoder\n",
    "decoder_checkpoint = torch.load(DECODER_PATH)\n",
    "mc_cc_vae.decoder.load_state_dict(decoder_checkpoint.state_dict())\n",
    "\n",
    "# Load weights for the classifier\n",
    "classifier_binary_checkpoint = torch.load(CLASSIFIER_BIN_PATH)\n",
    "mc_cc_vae.classifier_binary.load_state_dict(classifier_binary_checkpoint.state_dict())\n",
    "\n",
    "# Load weights for the conditional prior\n",
    "cond_prior_binary_checkpoint = torch.load(COND_PRIOR_BIN_PATH)\n",
    "mc_cc_vae.cond_prior_binary.load_state_dict(cond_prior_binary_checkpoint.state_dict())\n",
    "\n",
    "# Load weights for the classifier\n",
    "classifier_mc_checkpoint = torch.load(CLASSIFIER_MC_PATH)\n",
    "mc_cc_vae.classifier_mc.load_state_dict(classifier_mc_checkpoint.state_dict())\n",
    "\n",
    "# Load weights for the conditional prior\n",
    "cond_prior_mc_checkpoint = torch.load(COND_PRIOR_MC_PATH)\n",
    "mc_cc_vae.cond_prior_mc.load_state_dict(cond_prior_mc_checkpoint.state_dict())\n",
    "\n"
   ]
  },
  {
   "cell_type": "markdown",
   "metadata": {},
   "source": [
    "### New training"
   ]
  },
  {
   "cell_type": "code",
   "execution_count": null,
   "metadata": {},
   "outputs": [],
   "source": []
  },
  {
   "cell_type": "markdown",
   "metadata": {},
   "source": [
    "## Evaluation"
   ]
  },
  {
   "cell_type": "code",
   "execution_count": null,
   "metadata": {},
   "outputs": [],
   "source": [
    "# Make sure to set each component to evaluation mode if needed\n",
    "mc_cc_vae.encoder.eval()\n",
    "mc_cc_vae.decoder.eval()\n",
    "mc_cc_vae.classifier_binary.eval()\n",
    "mc_cc_vae.cond_prior_binary.eval()\n",
    "mc_cc_vae.classifier_mc.eval()\n",
    "mc_cc_vae.cond_prior_mc.eval()"
   ]
  },
  {
   "cell_type": "markdown",
   "metadata": {},
   "source": [
    "## **1. Inference :**\n",
    "\n",
    "**Reconstruct Images**"
   ]
  },
  {
   "cell_type": "code",
   "execution_count": 20,
   "metadata": {},
   "outputs": [],
   "source": [
    "img_batch = CELEBACached.fixed_imgs\n",
    "reconstructed_img_batch = mc_cc_vae.reconstruct_img(img_batch).view(-1, *im_shape)"
   ]
  },
  {
   "cell_type": "code",
   "execution_count": 21,
   "metadata": {},
   "outputs": [],
   "source": [
    "img_idx =25\n",
    "img = img_batch[img_idx,:,:,:]\n",
    "reconstructed_img = reconstructed_img_batch[img_idx,:,:,:]"
   ]
  },
  {
   "cell_type": "code",
   "execution_count": 22,
   "metadata": {},
   "outputs": [
    {
     "data": {
      "image/png": "[encoded data removed]",
      "text/plain": [
       "<Figure size 640x480 with 2 Axes>"
      ]
     },
     "metadata": {},
     "output_type": "display_data"
    }
   ],
   "source": [
    "to_pil = transforms.ToPILImage()\n",
    "image_pil = to_pil(img)\n",
    "reconstructed_pil = to_pil(reconstructed_img)\n",
    "\n",
    "# Plot the original image on the left\n",
    "plt.subplot(1, 2, 1)\n",
    "plt.imshow(image_pil)\n",
    "plt.title('Original Image')\n",
    "\n",
    "# Plot the reconstructed image on the right\n",
    "plt.subplot(1, 2, 2)\n",
    "plt.imshow(reconstructed_pil)\n",
    "plt.title('Reconstructed Image')\n",
    "\n",
    "# Display the plots\n",
    "plt.show()\n",
    "\n"
   ]
  },
  {
   "cell_type": "markdown",
   "metadata": {},
   "source": [
    "## Tests"
   ]
  },
  {
   "cell_type": "code",
   "execution_count": 23,
   "metadata": {},
   "outputs": [
    {
     "name": "stdout",
     "output_type": "stream",
     "text": [
      "encoder.encoder.0.weight\n",
      "encoder.encoder.0.bias\n",
      "encoder.encoder.2.weight\n",
      "encoder.encoder.2.bias\n",
      "encoder.encoder.4.weight\n",
      "encoder.encoder.4.bias\n",
      "encoder.encoder.6.weight\n",
      "encoder.encoder.6.bias\n",
      "encoder.encoder.8.weight\n",
      "encoder.encoder.8.bias\n",
      "encoder.locs.weight\n",
      "encoder.locs.bias\n",
      "encoder.scales.weight\n",
      "encoder.scales.bias\n",
      "decoder.decoder.0.weight\n",
      "decoder.decoder.0.bias\n",
      "decoder.decoder.3.weight\n",
      "decoder.decoder.3.bias\n",
      "decoder.decoder.5.weight\n",
      "decoder.decoder.5.bias\n",
      "decoder.decoder.7.weight\n",
      "decoder.decoder.7.bias\n",
      "decoder.decoder.9.weight\n",
      "decoder.decoder.9.bias\n",
      "decoder.decoder.11.weight\n",
      "decoder.decoder.11.bias\n",
      "classifier_binary.diag.weight\n",
      "classifier_binary.diag.bias\n",
      "cond_prior_binary.diag_loc_true\n",
      "cond_prior_binary.diag_loc_false\n",
      "cond_prior_binary.diag_scale_true\n",
      "cond_prior_binary.diag_scale_false\n",
      "classifier_mc.categorical_params.weight\n",
      "classifier_mc.categorical_params.bias\n",
      "cond_prior_mc.diag_loc.0\n",
      "cond_prior_mc.diag_loc.1\n",
      "cond_prior_mc.diag_loc.2\n",
      "cond_prior_mc.diag_loc.3\n",
      "cond_prior_mc.diag_loc.4\n",
      "cond_prior_mc.diag_scale.0\n",
      "cond_prior_mc.diag_scale.1\n",
      "cond_prior_mc.diag_scale.2\n",
      "cond_prior_mc.diag_scale.3\n",
      "cond_prior_mc.diag_scale.4\n"
     ]
    }
   ],
   "source": [
    "for n_param, params in mc_cc_vae.named_parameters():\n",
    "    print(n_param)\n",
    "    # print(params)"
   ]
  },
  {
   "cell_type": "code",
   "execution_count": 24,
   "metadata": {},
   "outputs": [],
   "source": [
    "import torch.distributions as dist\n",
    "from torchvision.utils import make_grid, save_image\n",
    "HAIR_ATTRIBUTES = ['Bald','Black_Hair','Blond_Hair','Brown_Hair','Gray_Hair']\n",
    "def mc_latent_walk(image, save_dir):\n",
    "        \"\"\"\n",
    "        Does latent walk between all possible classes from the multi-class label\n",
    "        Also does latent walk in binary label latent space\n",
    "        \"\"\"\n",
    "    \n",
    "\n",
    "        z_ = dist.Normal(*mc_cc_vae.encoder(image.unsqueeze(0))).sample()\n",
    "        zc_binary, zc_mc, zs = z_.split([mc_cc_vae.z_binary_classify, mc_cc_vae.z_mc_classify, mc_cc_vae.z_style], 1)\n",
    "        mult = 8\n",
    "\n",
    "        z = z_.clone()\n",
    "        z = z.expand(10, -1).contiguous()\n",
    "        y = torch.zeros(1, mc_cc_vae.num_mc_labels)\n",
    "            \n",
    "        locs = []\n",
    "        scales = []\n",
    "        \n",
    "        for i in range(mc_cc_vae.num_mc_classes):\n",
    "            y.fill_(int(i))\n",
    "            locs_, scales_ = mc_cc_vae.cond_prior_mc(y)\n",
    "            print(HAIR_ATTRIBUTES[i])\n",
    "            print(\"Y :\",y)\n",
    "            print(\"Loc : \",locs_)\n",
    "            print(\"Scales : \",scales_)\n",
    "            locs.append(locs_)\n",
    "            scales.append(scales_)\n",
    "            \n",
    "        for i in range(mc_cc_vae.num_mc_classes):\n",
    "            for j in range(mc_cc_vae.num_mc_classes):   \n",
    "                    if i != j:\n",
    "                         sign = torch.sign(locs[i] - locs[j])\n",
    "                         z_lim_1 = (locs[i] - mult * sign * scales[i]).item() \n",
    "                         z_lim_2 = (locs[j] - mult * sign * scales[j]).item() \n",
    "                         range_ = torch.linspace(z_lim_1, z_lim_2, 10)\n",
    "                         z[:, len(zc_binary)-1] = range_\n",
    "                         imgs = mc_cc_vae.decoder(z).view(-1, *mc_cc_vae.im_shape)\n",
    "                         grid = make_grid(imgs, nrow=10)\n",
    "                        #  save_image(grid, \n",
    "                        #             os.path.join(save_dir, \"mc_latent_walk_between_%s_and_%s.png\"\n",
    "                        #                                     % (HAIR_ATTRIBUTES[i],HAIR_ATTRIBUTES[j])))\n",
    "        # for j in range(mc_cc_vae.num_binary_classes):\n",
    "        #     z = z_.clone()\n",
    "        #     z = z.expand(10, -1).contiguous()\n",
    "        #     y = torch.zeros(1, mc_cc_vae.num_binary_classes)\n",
    "        #     if mc_cc_vae.use_cuda:\n",
    "        #         y = y.cuda()\n",
    "        #     locs_false, scales_false = mc_cc_vae.cond_prior_binary(y)\n",
    "        #     y[:, i].fill_(1.0)\n",
    "        #     locs_true, scales_true = mc_cc_vae.cond_prior_binary(y)\n",
    "        #     sign = torch.sign(locs_true[:, i] - locs_false[:, i])\n",
    "        #     z_false_lim = (locs_false[:, i] - mult * sign * scales_false[:, i]).item()    \n",
    "        #     z_true_lim = (locs_true[:, i] + mult * sign * scales_true[:, i]).item()\n",
    "        #     range_ = torch.linspace(z_false_lim, z_true_lim, 10)\n",
    "        #     z[:, j] = range_\n",
    "\n",
    "        #     imgs = mc_cc_vae.decoder(z).view(-1, *mc_cc_vae.im_shape)\n",
    "        #     grid = make_grid(imgs, nrow=10)\n",
    "            # save_image(grid, os.path.join(save_dir, \"latent_walk_%s.png\"\n",
    "            #                                   % list(CELEBA_MULTI_LABELS.keys())[j]))\n",
    "                        \n",
    "            "
   ]
  },
  {
   "cell_type": "code",
   "execution_count": 25,
   "metadata": {},
   "outputs": [
    {
     "name": "stdout",
     "output_type": "stream",
     "text": [
      "Bald\n",
      "Y : tensor([[0.]])\n",
      "Loc :  tensor([[0.3139]], grad_fn=<ViewBackward0>)\n",
      "Scales :  tensor([[0.8639]], grad_fn=<ClampBackward1>)\n",
      "Black_Hair\n",
      "Y : tensor([[1.]])\n",
      "Loc :  tensor([[0.7913]], grad_fn=<ViewBackward0>)\n",
      "Scales :  tensor([[0.9958]], grad_fn=<ClampBackward1>)\n",
      "Blond_Hair\n",
      "Y : tensor([[2.]])\n",
      "Loc :  tensor([[0.8404]], grad_fn=<ViewBackward0>)\n",
      "Scales :  tensor([[1.1900]], grad_fn=<ClampBackward1>)\n",
      "Brown_Hair\n",
      "Y : tensor([[3.]])\n",
      "Loc :  tensor([[0.5333]], grad_fn=<ViewBackward0>)\n",
      "Scales :  tensor([[0.8871]], grad_fn=<ClampBackward1>)\n",
      "Gray_Hair\n",
      "Y : tensor([[4.]])\n",
      "Loc :  tensor([[0.5396]], grad_fn=<ViewBackward0>)\n",
      "Scales :  tensor([[0.9488]], grad_fn=<ClampBackward1>)\n"
     ]
    }
   ],
   "source": [
    "mc_latent_walk(img, './data/images_mc')\n"
   ]
  },
  {
   "cell_type": "code",
   "execution_count": 57,
   "metadata": {},
   "outputs": [
    {
     "name": "stdout",
     "output_type": "stream",
     "text": [
      "Tenseur rempli de 1 :\n",
      "tensor([[1., 1., 1.],\n",
      "        [1., 1., 1.],\n",
      "        [1., 1., 1.]])\n",
      "\n",
      "Résultat de F.softplus :\n",
      "tensor([[1.3133, 1.3133, 1.3133],\n",
      "        [1.3133, 1.3133, 1.3133],\n",
      "        [1.3133, 1.3133, 1.3133]])\n"
     ]
    }
   ],
   "source": [
    "import torch\n",
    "import torch.nn.functional as F\n",
    "\n",
    "# Créer un tenseur rempli de 1\n",
    "tensor_rempli_de_1 = torch.ones((3, 3))  # Vous pouvez ajuster la taille selon vos besoins\n",
    "\n",
    "# Appliquer la fonction F.softplus\n",
    "resultat = F.softplus(tensor_rempli_de_1)\n",
    "\n",
    "# Afficher le résultat\n",
    "print(\"Tenseur rempli de 1 :\")\n",
    "print(tensor_rempli_de_1)\n",
    "print(\"\\nRésultat de F.softplus :\")\n",
    "print(resultat)\n"
   ]
  },
  {
   "cell_type": "code",
   "execution_count": 9,
   "metadata": {},
   "outputs": [],
   "source": [
    "import torch.nn as nn\n",
    "import torch.nn.functional as F\n",
    "\n",
    "diag_loc = nn.ParameterList([nn.Parameter(torch.zeros(1)+i/10*torch.ones(1)) for i in range(5)])\n",
    "diag_scale = nn.ParameterList([nn.Parameter(torch.ones(1)*i) for i in range(5)])\n",
    "\n",
    "\n",
    "\n"
   ]
  },
  {
   "cell_type": "code",
   "execution_count": 11,
   "metadata": {},
   "outputs": [
    {
     "name": "stdout",
     "output_type": "stream",
     "text": [
      "Loc : tensor([[0.1000],\n",
      "        [0.4000],\n",
      "        [0.2000],\n",
      "        [0.2000],\n",
      "        [0.4000],\n",
      "        [0.4000],\n",
      "        [0.0000],\n",
      "        [0.0000],\n",
      "        [0.1000],\n",
      "        [0.0000]])\n",
      "Scale : tensor([[1.3133],\n",
      "        [4.0181],\n",
      "        [2.1269],\n",
      "        [2.1269],\n",
      "        [4.0181],\n",
      "        [4.0181],\n",
      "        [0.6931],\n",
      "        [0.6931],\n",
      "        [1.3133],\n",
      "        [0.6931]])\n"
     ]
    }
   ],
   "source": [
    "x_ = torch.randint(low=0, high=5, size = (10,1) )\n",
    "\n",
    "loc = torch.index_select(torch.tensor(diag_loc), dim=0, index=x_.view(-1))\n",
    "scale = torch.index_select(torch.tensor(diag_scale), dim=0, index=x_.view(-1))\n",
    "print(\"Loc :\",loc.view(-1, 1))\n",
    "print(\"Scale :\", torch.clamp(F.softplus(scale.view(-1, 1)), min=1e-3))"
   ]
  },
  {
   "cell_type": "code",
   "execution_count": null,
   "metadata": {},
   "outputs": [],
   "source": []
  }
 ],
 "metadata": {
  "kernelspec": {
   "display_name": "nlp",
   "language": "python",
   "name": "python3"
  },
  "language_info": {
   "codemirror_mode": {
    "name": "ipython",
    "version": 3
   },
   "file_extension": ".py",
   "mimetype": "text/x-python",
   "name": "python",
   "nbconvert_exporter": "python",
   "pygments_lexer": "ipython3",
   "version": "3.11.6"
  }
 },
 "nbformat": 4,
 "nbformat_minor": 2
}
