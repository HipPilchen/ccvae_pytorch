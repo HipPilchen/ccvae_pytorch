{
 "cells": [
  {
   "cell_type": "markdown",
   "metadata": {},
   "source": [
    "# Multi-class model tests"
   ]
  },
  {
   "cell_type": "code",
   "execution_count": 1,
   "metadata": {},
   "outputs": [],
   "source": [
    "import torch\n",
    "from collections import namedtuple\n",
    "from utils import dataset_cached as dc\n",
    "from utils import multiclass_dataset_cached as mdc\n",
    "from torchvision.utils import make_grid, save_image\n",
    "from tqdm import tqdm\n",
    "from utils.dataset_cached import CELEBA_EASY_LABELS\n",
    "from utils.multiclass_dataset_cached import CELEBA_MULTI_LABELS, CELEBACached\n",
    "from models.ccvae import CCVAE, mc_CCVAE\n",
    "import numpy as np\n",
    "import torchvision.transforms as transforms\n",
    "import matplotlib.pyplot as plt\n",
    "import PIL\n",
    "import os\n"
   ]
  },
  {
   "cell_type": "markdown",
   "metadata": {},
   "source": [
    "### Loading"
   ]
  },
  {
   "cell_type": "code",
   "execution_count": 2,
   "metadata": {},
   "outputs": [],
   "source": [
    "NUM_MC_LABELS = 1"
   ]
  },
  {
   "cell_type": "code",
   "execution_count": 3,
   "metadata": {},
   "outputs": [
    {
     "name": "stdout",
     "output_type": "stream",
     "text": [
      "Loading MULTI_CLASS dataset\n",
      "Splitting Dataset\n",
      "Loading MULTI_CLASS dataset\n",
      "Loading MULTI_CLASS dataset\n",
      "Loading MULTI_CLASS dataset\n"
     ]
    }
   ],
   "source": [
    "# change root for mutlilabel (already dropped the nans within celebaCached)\n",
    "mc_loaders = mdc.setup_data_loaders(False,\n",
    "                                      200,\n",
    "                                      cache_data=True,\n",
    "                                      sup_frac=0.1,\n",
    "                                      root='./data/datasets/celeba',\n",
    "                                      multi_class=True)\n",
    "\n"
   ]
  },
  {
   "cell_type": "code",
   "execution_count": 4,
   "metadata": {},
   "outputs": [],
   "source": [
    "\n",
    "z_dim = 43 # To keep 27 dimensions for z\\c and one per label (16 labels in the multi-class label setting)\n",
    "im_shape = (3, 64, 64)\n",
    "num_binary_classes = len(CELEBA_MULTI_LABELS)-1\n",
    "num_mc_labels = 1\n",
    "num_mc_classes = 5\n",
    "\n",
    "mc_cc_vae = mc_CCVAE(z_dim=z_dim,\n",
    "                   num_binary_classes=num_binary_classes,\n",
    "                   im_shape=im_shape,\n",
    "                   use_cuda=False,\n",
    "                   num_mc_labels = num_mc_labels,\n",
    "                   num_mc_classes = num_mc_classes)"
   ]
  },
  {
   "cell_type": "code",
   "execution_count": 5,
   "metadata": {},
   "outputs": [],
   "source": [
    "ENCODER_PATH = './pretrained_weights/weights_f90_80epoch_mc/encoder.pt'\n",
    "DECODER_PATH = './pretrained_weights/weights_f90_80epoch_mc/decoder.pt'\n",
    "COND_PRIOR_BIN_PATH = './pretrained_weights/weights_f90_80epoch_mc/cond_prior_binary.pt'\n",
    "CLASSIFIER_BIN_PATH = './pretrained_weights/weights_f90_80epoch_mc/classifier_binary.pt'\n",
    "COND_PRIOR_MC_PATH = './pretrained_weights/weights_f90_80epoch_mc/cond_prior_mc.pt'\n",
    "CLASSIFIER_MC_PATH = './pretrained_weights/weights_f90_80epoch_mc/classifier_mc.pt'"
   ]
  },
  {
   "cell_type": "code",
   "execution_count": 6,
   "metadata": {},
   "outputs": [
    {
     "data": {
      "text/plain": [
       "<All keys matched successfully>"
      ]
     },
     "execution_count": 6,
     "metadata": {},
     "output_type": "execute_result"
    }
   ],
   "source": [
    "\n",
    "# Load weights for the encoder\n",
    "encoder_checkpoint = torch.load(ENCODER_PATH)\n",
    "mc_cc_vae.encoder.load_state_dict(encoder_checkpoint.state_dict())\n",
    "\n",
    "# Load weights for the decoder\n",
    "decoder_checkpoint = torch.load(DECODER_PATH)\n",
    "mc_cc_vae.decoder.load_state_dict(decoder_checkpoint.state_dict())\n",
    "\n",
    "# Load weights for the classifier\n",
    "classifier_binary_checkpoint = torch.load(CLASSIFIER_BIN_PATH)\n",
    "mc_cc_vae.classifier_binary.load_state_dict(classifier_binary_checkpoint.state_dict())\n",
    "\n",
    "# Load weights for the conditional prior\n",
    "cond_prior_binary_checkpoint = torch.load(COND_PRIOR_BIN_PATH)\n",
    "mc_cc_vae.cond_prior_binary.load_state_dict(cond_prior_binary_checkpoint.state_dict())\n",
    "\n",
    "# Load weights for the classifier\n",
    "classifier_mc_checkpoint = torch.load(CLASSIFIER_MC_PATH)\n",
    "mc_cc_vae.classifier_mc.load_state_dict(classifier_mc_checkpoint.state_dict())\n",
    "\n",
    "# Load weights for the conditional prior\n",
    "cond_prior_mc_checkpoint = torch.load(COND_PRIOR_MC_PATH)\n",
    "mc_cc_vae.cond_prior_mc.load_state_dict(cond_prior_mc_checkpoint.state_dict())\n",
    "\n"
   ]
  },
  {
   "cell_type": "code",
   "execution_count": 7,
   "metadata": {},
   "outputs": [
    {
     "data": {
      "text/plain": [
       "CondPrior_mc(\n",
       "  (diag_loc): ParameterList(\n",
       "      (0): Parameter containing: [torch.float32 of size 1]\n",
       "      (1): Parameter containing: [torch.float32 of size 1]\n",
       "      (2): Parameter containing: [torch.float32 of size 1]\n",
       "      (3): Parameter containing: [torch.float32 of size 1]\n",
       "      (4): Parameter containing: [torch.float32 of size 1]\n",
       "  )\n",
       "  (diag_scale): ParameterList(\n",
       "      (0): Parameter containing: [torch.float32 of size 1]\n",
       "      (1): Parameter containing: [torch.float32 of size 1]\n",
       "      (2): Parameter containing: [torch.float32 of size 1]\n",
       "      (3): Parameter containing: [torch.float32 of size 1]\n",
       "      (4): Parameter containing: [torch.float32 of size 1]\n",
       "  )\n",
       ")"
      ]
     },
     "execution_count": 7,
     "metadata": {},
     "output_type": "execute_result"
    }
   ],
   "source": [
    "# Make sure to set each component to evaluation mode if needed\n",
    "mc_cc_vae.encoder.eval()\n",
    "mc_cc_vae.decoder.eval()\n",
    "mc_cc_vae.classifier_binary.eval()\n",
    "mc_cc_vae.cond_prior_binary.eval()\n",
    "mc_cc_vae.classifier_mc.eval()\n",
    "mc_cc_vae.cond_prior_mc.eval()"
   ]
  },
  {
   "cell_type": "markdown",
   "metadata": {},
   "source": [
    "## Inference :\n",
    "\n",
    "**Reconstruct Images**"
   ]
  },
  {
   "cell_type": "code",
   "execution_count": 8,
   "metadata": {},
   "outputs": [],
   "source": [
    "img_batch = CELEBACached.fixed_imgs\n",
    "reconstructed_img_batch = mc_cc_vae.reconstruct_img(img_batch).view(-1, *im_shape)"
   ]
  },
  {
   "cell_type": "code",
   "execution_count": 9,
   "metadata": {},
   "outputs": [],
   "source": [
    "\n",
    "img_idx =5\n",
    "img = img_batch[img_idx,:,:,:]\n",
    "reconstructed_img = reconstructed_img_batch[img_idx,:,:,:]"
   ]
  },
  {
   "cell_type": "code",
   "execution_count": 10,
   "metadata": {},
   "outputs": [
    {
     "data": {
      "image/png": "[encoded data removed]",
      "text/plain": [
       "<Figure size 640x480 with 2 Axes>"
      ]
     },
     "metadata": {},
     "output_type": "display_data"
    }
   ],
   "source": [
    "to_pil = transforms.ToPILImage()\n",
    "image_pil = to_pil(img)\n",
    "reconstructed_pil = to_pil(reconstructed_img)\n",
    "\n",
    "# Plot the original image on the left\n",
    "plt.subplot(1, 2, 1)\n",
    "plt.imshow(image_pil)\n",
    "plt.title('Original Image')\n",
    "\n",
    "# Plot the reconstructed image on the right\n",
    "plt.subplot(1, 2, 2)\n",
    "plt.imshow(reconstructed_pil)\n",
    "plt.title('Reconstructed Image')\n",
    "\n",
    "# Display the plots\n",
    "plt.show()\n",
    "\n"
   ]
  },
  {
   "cell_type": "markdown",
   "metadata": {},
   "source": [
    "## Latent traversal tests"
   ]
  },
  {
   "cell_type": "code",
   "execution_count": 11,
   "metadata": {},
   "outputs": [
    {
     "name": "stdout",
     "output_type": "stream",
     "text": [
      "Label : Bald\n",
      "Mean of the Gaussian :  tensor([[0.3139]], grad_fn=<ViewBackward0>)\n",
      "Variance of the Gaussian :  tensor([[0.8639]], grad_fn=<ClampBackward1>)\n",
      "Label : Black_Hair\n",
      "Mean of the Gaussian :  tensor([[0.7913]], grad_fn=<ViewBackward0>)\n",
      "Variance of the Gaussian :  tensor([[0.9958]], grad_fn=<ClampBackward1>)\n",
      "Label : Blond_Hair\n",
      "Mean of the Gaussian :  tensor([[0.8404]], grad_fn=<ViewBackward0>)\n",
      "Variance of the Gaussian :  tensor([[1.1900]], grad_fn=<ClampBackward1>)\n",
      "Label : Brown_Hair\n",
      "Mean of the Gaussian :  tensor([[0.5333]], grad_fn=<ViewBackward0>)\n",
      "Variance of the Gaussian :  tensor([[0.8871]], grad_fn=<ClampBackward1>)\n",
      "Label : Gray_Hair\n",
      "Mean of the Gaussian :  tensor([[0.5396]], grad_fn=<ViewBackward0>)\n",
      "Variance of the Gaussian :  tensor([[0.9488]], grad_fn=<ClampBackward1>)\n"
     ]
    }
   ],
   "source": [
    "mc_cc_vae.mc_latent_walk(img, '/Users/Hippolyte/Desktop/P1/PGM/ccvae_pytorch/data/image_mc2')"
   ]
  },
  {
   "cell_type": "code",
   "execution_count": null,
   "metadata": {},
   "outputs": [],
   "source": []
  }
 ],
 "metadata": {
  "kernelspec": {
   "display_name": "nlp",
   "language": "python",
   "name": "python3"
  },
  "language_info": {
   "codemirror_mode": {
    "name": "ipython",
    "version": 3
   },
   "file_extension": ".py",
   "mimetype": "text/x-python",
   "name": "python",
   "nbconvert_exporter": "python",
   "pygments_lexer": "ipython3",
   "version": "3.11.6"
  }
 },
 "nbformat": 4,
 "nbformat_minor": 2
}
